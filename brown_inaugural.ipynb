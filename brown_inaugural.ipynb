{
 "cells": [
  {
   "cell_type": "markdown",
   "metadata": {},
   "source": [
    "# Brown Corpus & Inaugural Address Corpus\n",
    "### Ayush Karn - 17BCE2381"
   ]
  },
  {
   "cell_type": "code",
   "execution_count": 1,
   "metadata": {},
   "outputs": [],
   "source": [
    "import nltk"
   ]
  },
  {
   "cell_type": "code",
   "execution_count": 3,
   "metadata": {},
   "outputs": [],
   "source": [
    "from nltk.corpus import brown"
   ]
  },
  {
   "cell_type": "code",
   "execution_count": 4,
   "metadata": {},
   "outputs": [
    {
     "data": {
      "text/plain": [
       "['adventure',\n",
       " 'belles_lettres',\n",
       " 'editorial',\n",
       " 'fiction',\n",
       " 'government',\n",
       " 'hobbies',\n",
       " 'humor',\n",
       " 'learned',\n",
       " 'lore',\n",
       " 'mystery',\n",
       " 'news',\n",
       " 'religion',\n",
       " 'reviews',\n",
       " 'romance',\n",
       " 'science_fiction']"
      ]
     },
     "execution_count": 4,
     "metadata": {},
     "output_type": "execute_result"
    }
   ],
   "source": [
    "brown.categories()     # categories in brown corpus"
   ]
  },
  {
   "cell_type": "code",
   "execution_count": 5,
   "metadata": {},
   "outputs": [
    {
     "data": {
      "text/plain": [
       "['Dan', 'Morgan', 'told', 'himself', 'he', 'would', ...]"
      ]
     },
     "execution_count": 5,
     "metadata": {},
     "output_type": "execute_result"
    }
   ],
   "source": [
    "brown.words(categories='adventure')[:100]"
   ]
  },
  {
   "cell_type": "code",
   "execution_count": 7,
   "metadata": {},
   "outputs": [
    {
     "data": {
      "text/plain": [
       "['1789-Washington.txt',\n",
       " '1793-Washington.txt',\n",
       " '1797-Adams.txt',\n",
       " '1801-Jefferson.txt',\n",
       " '1805-Jefferson.txt',\n",
       " '1809-Madison.txt',\n",
       " '1813-Madison.txt',\n",
       " '1817-Monroe.txt',\n",
       " '1821-Monroe.txt',\n",
       " '1825-Adams.txt',\n",
       " '1829-Jackson.txt',\n",
       " '1833-Jackson.txt',\n",
       " '1837-VanBuren.txt',\n",
       " '1841-Harrison.txt',\n",
       " '1845-Polk.txt',\n",
       " '1849-Taylor.txt',\n",
       " '1853-Pierce.txt',\n",
       " '1857-Buchanan.txt',\n",
       " '1861-Lincoln.txt',\n",
       " '1865-Lincoln.txt',\n",
       " '1869-Grant.txt',\n",
       " '1873-Grant.txt',\n",
       " '1877-Hayes.txt',\n",
       " '1881-Garfield.txt',\n",
       " '1885-Cleveland.txt',\n",
       " '1889-Harrison.txt',\n",
       " '1893-Cleveland.txt',\n",
       " '1897-McKinley.txt',\n",
       " '1901-McKinley.txt',\n",
       " '1905-Roosevelt.txt',\n",
       " '1909-Taft.txt',\n",
       " '1913-Wilson.txt',\n",
       " '1917-Wilson.txt',\n",
       " '1921-Harding.txt',\n",
       " '1925-Coolidge.txt',\n",
       " '1929-Hoover.txt',\n",
       " '1933-Roosevelt.txt',\n",
       " '1937-Roosevelt.txt',\n",
       " '1941-Roosevelt.txt',\n",
       " '1945-Roosevelt.txt',\n",
       " '1949-Truman.txt',\n",
       " '1953-Eisenhower.txt',\n",
       " '1957-Eisenhower.txt',\n",
       " '1961-Kennedy.txt',\n",
       " '1965-Johnson.txt',\n",
       " '1969-Nixon.txt',\n",
       " '1973-Nixon.txt',\n",
       " '1977-Carter.txt',\n",
       " '1981-Reagan.txt',\n",
       " '1985-Reagan.txt',\n",
       " '1989-Bush.txt',\n",
       " '1993-Clinton.txt',\n",
       " '1997-Clinton.txt',\n",
       " '2001-Bush.txt',\n",
       " '2005-Bush.txt',\n",
       " '2009-Obama.txt',\n",
       " '2013-Obama.txt',\n",
       " '2017-Trump.txt']"
      ]
     },
     "execution_count": 7,
     "metadata": {},
     "output_type": "execute_result"
    }
   ],
   "source": [
    "from nltk.corpus import inaugural\n",
    "inaugural.fileids()     # various datasets in inaugral address courpus"
   ]
  },
  {
   "cell_type": "code",
   "execution_count": 8,
   "metadata": {},
   "outputs": [
    {
     "data": {
      "text/plain": [
       "['I', 'am', 'certain', 'that', 'my', 'fellow', ...]"
      ]
     },
     "execution_count": 8,
     "metadata": {},
     "output_type": "execute_result"
    }
   ],
   "source": [
    "inaugural.words(fileids='1933-Roosevelt.txt')    #inaugral address by roosevelt"
   ]
  },
  {
   "cell_type": "code",
   "execution_count": 9,
   "metadata": {},
   "outputs": [
    {
     "data": {
      "text/plain": [
       "['Chief', 'Justice', 'Roberts', ',', 'President', ...]"
      ]
     },
     "execution_count": 9,
     "metadata": {},
     "output_type": "execute_result"
    }
   ],
   "source": [
    "inaugural.words(fileids='2017-Trump.txt')"
   ]
  },
  {
   "cell_type": "code",
   "execution_count": 10,
   "metadata": {},
   "outputs": [
    {
     "name": "stdout",
     "output_type": "stream",
     "text": [
      "*** Introductory Examples for the NLTK Book ***\n",
      "Loading text1, ..., text9 and sent1, ..., sent9\n",
      "Type the name of the text or sentence to view it.\n",
      "Type: 'texts()' or 'sents()' to list the materials.\n",
      "text1: Moby Dick by Herman Melville 1851\n",
      "text2: Sense and Sensibility by Jane Austen 1811\n",
      "text3: The Book of Genesis\n",
      "text4: Inaugural Address Corpus\n",
      "text5: Chat Corpus\n",
      "text6: Monty Python and the Holy Grail\n",
      "text7: Wall Street Journal\n",
      "text8: Personals Corpus\n",
      "text9: The Man Who Was Thursday by G . K . Chesterton 1908\n"
     ]
    }
   ],
   "source": [
    "from nltk.book import*"
   ]
  },
  {
   "cell_type": "code",
   "execution_count": 11,
   "metadata": {},
   "outputs": [],
   "source": [
    "f=FreqDist(text1)"
   ]
  },
  {
   "cell_type": "code",
   "execution_count": 12,
   "metadata": {},
   "outputs": [
    {
     "name": "stdout",
     "output_type": "stream",
     "text": [
      "<FreqDist with 19317 samples and 260819 outcomes>\n"
     ]
    }
   ],
   "source": [
    "print(f)"
   ]
  },
  {
   "cell_type": "code",
   "execution_count": 13,
   "metadata": {},
   "outputs": [
    {
     "data": {
      "text/plain": [
       "[(',', 18713),\n",
       " ('the', 13721),\n",
       " ('.', 6862),\n",
       " ('of', 6536),\n",
       " ('and', 6024),\n",
       " ('a', 4569),\n",
       " ('to', 4542),\n",
       " (';', 4072),\n",
       " ('in', 3916),\n",
       " ('that', 2982),\n",
       " (\"'\", 2684),\n",
       " ('-', 2552),\n",
       " ('his', 2459),\n",
       " ('it', 2209),\n",
       " ('I', 2124),\n",
       " ('s', 1739),\n",
       " ('is', 1695),\n",
       " ('he', 1661),\n",
       " ('with', 1659),\n",
       " ('was', 1632)]"
      ]
     },
     "execution_count": 13,
     "metadata": {},
     "output_type": "execute_result"
    }
   ],
   "source": [
    "f.most_common(20)"
   ]
  },
  {
   "cell_type": "code",
   "execution_count": 17,
   "metadata": {},
   "outputs": [],
   "source": [
    "g=FreqDist(inaugural.words('1977-Carter.txt'))     # frequency distribution in Carters speech"
   ]
  },
  {
   "cell_type": "code",
   "execution_count": 19,
   "metadata": {},
   "outputs": [
    {
     "name": "stdout",
     "output_type": "stream",
     "text": [
      "<FreqDist with 529 samples and 1380 outcomes>\n"
     ]
    }
   ],
   "source": [
    "print(g)"
   ]
  },
  {
   "cell_type": "code",
   "execution_count": 20,
   "metadata": {},
   "outputs": [
    {
     "data": {
      "text/plain": [
       "[(',', 65),\n",
       " ('.', 50),\n",
       " ('the', 49),\n",
       " ('and', 45),\n",
       " ('to', 43),\n",
       " ('of', 33),\n",
       " ('our', 31),\n",
       " ('a', 28),\n",
       " ('we', 27),\n",
       " ('for', 23),\n",
       " ('that', 22),\n",
       " ('in', 20),\n",
       " ('be', 18),\n",
       " ('We', 16),\n",
       " ('is', 15),\n",
       " ('can', 13),\n",
       " ('but', 12),\n",
       " ('Nation', 11),\n",
       " ('not', 10),\n",
       " ('on', 9),\n",
       " ('new', 9),\n",
       " ('which', 9),\n",
       " ('are', 9),\n",
       " ('my', 8),\n",
       " ('must', 8),\n",
       " ('have', 8),\n",
       " ('us', 8),\n",
       " ('-', 8),\n",
       " ('had', 8),\n",
       " ('all', 7),\n",
       " ('this', 7),\n",
       " ('strength', 7),\n",
       " (';', 7),\n",
       " ('together', 7),\n",
       " ('will', 7),\n",
       " ('I', 6),\n",
       " ('spirit', 6),\n",
       " ('people', 6),\n",
       " ('it', 6),\n",
       " ('those', 6),\n",
       " ('own', 6),\n",
       " ('--', 6),\n",
       " ('world', 6),\n",
       " ('with', 5),\n",
       " ('dream', 5),\n",
       " ('no', 5),\n",
       " ('human', 5),\n",
       " ('an', 5),\n",
       " ('has', 4),\n",
       " (':', 4),\n",
       " ('just', 4),\n",
       " ('do', 4),\n",
       " (\"'\", 4),\n",
       " ('s', 4),\n",
       " ('freedom', 4),\n",
       " ('The', 4),\n",
       " ('Our', 4),\n",
       " ('more', 4),\n",
       " ('once', 3),\n",
       " ('again', 3),\n",
       " ('say', 3),\n",
       " ('times', 3),\n",
       " ('still', 3),\n",
       " ('me', 3),\n",
       " ('President', 3),\n",
       " ('Micah', 3),\n",
       " ('what', 3),\n",
       " ('Government', 3),\n",
       " ('was', 3),\n",
       " ('moral', 3),\n",
       " ('when', 3),\n",
       " ('best', 3),\n",
       " ('you', 3),\n",
       " ('Let', 3),\n",
       " ('American', 3),\n",
       " ('know', 3),\n",
       " ('cannot', 3),\n",
       " ('afford', 3),\n",
       " ('at', 3),\n",
       " ('now', 3),\n",
       " ('rights', 3),\n",
       " ('nor', 3),\n",
       " ('as', 3),\n",
       " ('strong', 3),\n",
       " ('And', 3),\n",
       " ('their', 3),\n",
       " ('there', 3),\n",
       " ('respect', 3),\n",
       " ('built', 3),\n",
       " ('In', 2),\n",
       " ('physical', 2),\n",
       " ('ceremony', 2),\n",
       " ('high', 2),\n",
       " ('used', 2),\n",
       " ('\"', 2),\n",
       " ('principles', 2),\n",
       " ('.\"', 2),\n",
       " ('before', 2),\n",
       " ('Bible', 2),\n",
       " ('inauguration', 2)]"
      ]
     },
     "execution_count": 20,
     "metadata": {},
     "output_type": "execute_result"
    }
   ],
   "source": [
    "g.most_common(100)"
   ]
  },
  {
   "cell_type": "code",
   "execution_count": 21,
   "metadata": {},
   "outputs": [
    {
     "data": {
      "text/plain": [
       "[(',', 106),\n",
       " ('.', 89),\n",
       " ('and', 70),\n",
       " ('the', 65),\n",
       " ('of', 48),\n",
       " ('our', 47),\n",
       " ('will', 43),\n",
       " ('to', 37),\n",
       " ('We', 26),\n",
       " ('we', 24),\n",
       " ('America', 20),\n",
       " ('is', 20),\n",
       " ('a', 14),\n",
       " ('all', 14),\n",
       " ('are', 13),\n",
       " ('in', 13),\n",
       " ('for', 13),\n",
       " ('be', 13),\n",
       " ('you', 12),\n",
       " ('but', 11),\n",
       " (\"'\", 11),\n",
       " ('American', 11),\n",
       " ('people', 10),\n",
       " ('their', 10),\n",
       " ('not', 10),\n",
       " ('your', 10),\n",
       " ('country', 9),\n",
       " ('from', 9),\n",
       " ('again', 9),\n",
       " ('that', 9),\n",
       " (':', 8),\n",
       " ('this', 8),\n",
       " ('it', 8),\n",
       " ('with', 8),\n",
       " ('s', 7),\n",
       " ('one', 7),\n",
       " ('world', 6),\n",
       " ('great', 6),\n",
       " ('on', 6),\n",
       " ('has', 6),\n",
       " ('back', 6),\n",
       " ('Nation', 6),\n",
       " ('while', 6),\n",
       " ('The', 6),\n",
       " ('And', 6),\n",
       " ('by', 6),\n",
       " ('never', 6),\n",
       " ('new', 6),\n",
       " ('same', 6),\n",
       " ('President', 5),\n",
       " ('now', 5),\n",
       " ('many', 5),\n",
       " ('have', 5),\n",
       " ('protected', 5),\n",
       " (';', 5),\n",
       " ('across', 5),\n",
       " ('right', 5),\n",
       " ('no', 5),\n",
       " ('dreams', 5),\n",
       " ('other', 5),\n",
       " ('every', 5),\n",
       " ('God', 5),\n",
       " ('make', 5),\n",
       " ('Americans', 4),\n",
       " ('Thank', 4),\n",
       " ('citizens', 4),\n",
       " ('power', 4),\n",
       " ('been', 4),\n",
       " ('today', 4),\n",
       " ('or', 4),\n",
       " ('wealth', 4),\n",
       " ('jobs', 4),\n",
       " ('they', 4),\n",
       " ('here', 4),\n",
       " ('day', 4),\n",
       " ('which', 4),\n",
       " ('as', 4),\n",
       " ('heart', 4),\n",
       " ('bring', 4),\n",
       " ('Obama', 3),\n",
       " ('its', 3),\n",
       " ('too', 3),\n",
       " ('Government', 3),\n",
       " ('left', 3),\n",
       " ('factories', 3),\n",
       " ('families', 3),\n",
       " ('It', 3),\n",
       " ('everyone', 3),\n",
       " ('This', 3),\n",
       " ('whether', 3),\n",
       " ('millions', 3),\n",
       " ('good', 3),\n",
       " ('an', 3),\n",
       " ('I', 3),\n",
       " ('ve', 3),\n",
       " ('foreign', 3),\n",
       " ('at', 3),\n",
       " ('countries', 3),\n",
       " ('nations', 3),\n",
       " ('borders', 3)]"
      ]
     },
     "execution_count": 21,
     "metadata": {},
     "output_type": "execute_result"
    }
   ],
   "source": [
    "FreqDist(inaugural.words(fileids='2017-Trump.txt')).most_common(100)"
   ]
  },
  {
   "cell_type": "code",
   "execution_count": null,
   "metadata": {},
   "outputs": [],
   "source": []
  }
 ],
 "metadata": {
  "kernelspec": {
   "display_name": "Python 3",
   "language": "python",
   "name": "python3"
  },
  "language_info": {
   "codemirror_mode": {
    "name": "ipython",
    "version": 3
   },
   "file_extension": ".py",
   "mimetype": "text/x-python",
   "name": "python",
   "nbconvert_exporter": "python",
   "pygments_lexer": "ipython3",
   "version": "3.7.3"
  }
 },
 "nbformat": 4,
 "nbformat_minor": 2
}
